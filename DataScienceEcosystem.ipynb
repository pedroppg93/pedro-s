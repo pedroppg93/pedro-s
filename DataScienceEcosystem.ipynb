{
 "cells": [
  {
   "cell_type": "markdown",
   "id": "656f74c6-aba0-4097-bb07-e416d1b52aab",
   "metadata": {},
   "source": [
    "# Data Science Tools and Ecosystem"
   ]
  },
  {
   "cell_type": "markdown",
   "id": "ac43fe03-d35d-4082-944e-6ff4a23f92bd",
   "metadata": {},
   "source": [
    "In this notebook, Data Science Tools and Ecosystem are summarized."
   ]
  },
  {
   "cell_type": "markdown",
   "id": "dc73fdea-5ae8-4ebb-8d5c-e20bb508f2f6",
   "metadata": {},
   "source": [
    "**Objectives:**\n",
    "- List popular languages for Data science\n",
    "- List commonly used libraries used by Data Scientists\n",
    "- Identify Data Science Tools\n",
    "- Explore examples of arithmetic eexpressions in Python "
   ]
  },
  {
   "cell_type": "markdown",
   "id": "d378814f-ec71-470b-ad4d-e434dad39e0b",
   "metadata": {},
   "source": [
    "## Author\n",
    "Pedro P. Paz"
   ]
  },
  {
   "cell_type": "markdown",
   "id": "c2c8009f-e097-4f2b-910a-dd8b0f4efa58",
   "metadata": {},
   "source": [
    "Some of the popular languages that Data Scientists use are:\n",
    "1. Python\n",
    "2. R\n",
    "3. SQL\n",
    "4. Scala\n",
    "5. Java\n",
    "6. C++"
   ]
  },
  {
   "cell_type": "markdown",
   "id": "c5e955f5-553f-41e2-a843-3b7e285437f1",
   "metadata": {},
   "source": [
    "Some of the commonly used libraries used by Data Scientists include:\n",
    "1. Scikit-learn\n",
    "2. TensorFlow\n",
    "3. Apache Spark\n",
    "4. Matplotlib\n",
    "5. NumPy"
   ]
  },
  {
   "cell_type": "markdown",
   "id": "2748b256-4320-46b0-8975-0ae295a08f1c",
   "metadata": {},
   "source": [
    "| #Data Science Tools |\n",
    "| ----- |\n",
    "| Jupyter |\n",
    "| RStudio |\n",
    "| Spyder |"
   ]
  },
  {
   "cell_type": "markdown",
   "id": "22a31f4f-6503-44e2-acb3-b21790f2e427",
   "metadata": {},
   "source": [
    "### Below are a few examples of evaluating arithmetic expressions in Python "
   ]
  },
  {
   "cell_type": "code",
   "execution_count": 3,
   "id": "2edddc55-7221-499a-8d74-21307161be4f",
   "metadata": {},
   "outputs": [
    {
     "data": {
      "text/plain": [
       "17"
      ]
     },
     "execution_count": 3,
     "metadata": {},
     "output_type": "execute_result"
    }
   ],
   "source": [
    "# This a simple arithmetic expression to mutiply then add integers\n",
    "(3*4)+5"
   ]
  },
  {
   "cell_type": "code",
   "execution_count": 4,
   "id": "81c6d937-193c-4a81-889e-03bff36457b5",
   "metadata": {},
   "outputs": [
    {
     "data": {
      "text/plain": [
       "3.3333333333333335"
      ]
     },
     "execution_count": 4,
     "metadata": {},
     "output_type": "execute_result"
    }
   ],
   "source": [
    "#This will convert 200 minutes to hours by diving by 60\n",
    "200/60"
   ]
  }
 ],
 "metadata": {
  "kernelspec": {
   "display_name": "Python [conda env:base] *",
   "language": "python",
   "name": "conda-base-py"
  },
  "language_info": {
   "codemirror_mode": {
    "name": "ipython",
    "version": 3
   },
   "file_extension": ".py",
   "mimetype": "text/x-python",
   "name": "python",
   "nbconvert_exporter": "python",
   "pygments_lexer": "ipython3",
   "version": "3.13.5"
  }
 },
 "nbformat": 4,
 "nbformat_minor": 5
}
